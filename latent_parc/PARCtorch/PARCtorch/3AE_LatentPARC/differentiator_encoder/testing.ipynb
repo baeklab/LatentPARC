{
 "cells": [
  {
   "cell_type": "code",
   "execution_count": 1,
   "id": "fee461e0-025a-404f-825a-d49e4cb31f2c",
   "metadata": {
    "tags": []
   },
   "outputs": [],
   "source": [
    "# Standard libraries\n",
    "import os\n",
    "import sys\n",
    "import json\n",
    "import random\n",
    "import logging\n",
    "import numpy as np\n",
    "import matplotlib.pyplot as plt\n",
    "\n",
    "# Third-party libraries\n",
    "from tqdm import tqdm\n",
    "from torchsummary import summary\n",
    "\n",
    "# PyTorch core\n",
    "import torch\n",
    "import torch.nn as nn\n",
    "import torch.optim as optim\n",
    "from torch.optim import Adam\n",
    "from torch.utils.data import DataLoader, random_split\n",
    "\n",
    "# PyTorch learning rate schedulers\n",
    "from torch.optim.lr_scheduler import StepLR, ReduceLROnPlateau\n",
    "\n",
    "# PyTorch utilities\n",
    "from torchvision.utils import make_grid\n",
    "\n",
    "# Project-specific modules\n",
    "from PARCtorch.integrator.rk4 import *\n",
    "from PARCtorch.integrator.numintegrator import *\n",
    "from model import *"
   ]
  },
  {
   "cell_type": "markdown",
   "id": "8abce96b-8d77-41aa-9d9b-4371d8543452",
   "metadata": {},
   "source": [
    "# Load in Data Paths and Functions"
   ]
  },
  {
   "cell_type": "code",
   "execution_count": 2,
   "id": "33ac5c97-e37f-473e-80b8-bec610d664d6",
   "metadata": {
    "tags": []
   },
   "outputs": [
    {
     "name": "stdout",
     "output_type": "stream",
     "text": [
      "Calculating channel-wise min and max values for normalization...\n",
      "Current working directory: /sfs/gpfs/tardis/home/pdy2bw/Research/LatentPARC/latent_parc/PARCtorch/PARCtorch/3AE_LatentPARC/differentiator_encoder\n",
      "Total files to process: 133\n",
      "Processed 100/133 files.\n",
      "Processed 133/133 files.\n",
      "Channel-wise min values: [300.0, -1186907500.0, 0.0, -1995.0012, -5521.5503]\n",
      "Channel-wise max values: [5000.0, 69721220000.0, 1.0, 7184.0073, 5215.695]\n",
      "Min and max values saved to '/sfs/gpfs/tardis/home/pdy2bw/Research/LatentPARC/latent_parc/PARCtorch/PARCtorch/data/hmx_min_max.json'.\n"
     ]
    }
   ],
   "source": [
    "path = os.path.abspath(os.path.join(os.getcwd(), \"..\"))  # Your initial path\n",
    "new_path = os.path.dirname(path)  # Remove the last folder\n",
    "\n",
    "# Add the root directory (PARCTorch) to the system path\n",
    "sys.path.append(new_path)\n",
    "from data.normalization import compute_min_max\n",
    "\n",
    "data_dirs = [\n",
    "    \"/project/vil_baek/data/physics/PARCTorch/HMX/train\",\n",
    "    \"/project/vil_baek/data/physics/PARCTorch/HMX/test\",\n",
    "]\n",
    "output_file = new_path + \"/data/hmx_min_max.json\"\n",
    "compute_min_max(data_dirs, output_file)\n",
    "\n",
    "from torch.utils.data import DataLoader, random_split\n",
    "import logging\n",
    "from data.dataset import (\n",
    "    GenericPhysicsDataset,\n",
    "    custom_collate_fn,\n",
    ")\n",
    "from utilities.viz import visualize_channels, save_gifs_with_ground_truth\n",
    "\n",
    "# Set up logging\n",
    "logging.basicConfig(\n",
    "    level=logging.INFO, format=\"%(asctime)s [%(levelname)s] %(message)s\"\n",
    ")\n",
    "\n",
    "# Example configuration for HMX dataset\n",
    "data_dir_train = \"/project/vil_baek/data/physics/PARCTorch/HMX/train\"  # Replace with your actual train directory path\n",
    "data_dir_test = \"/project/vil_baek/data/physics/PARCTorch/HMX/test\"  # Replace with your actual test directory path\n",
    "\n",
    "# Path to the min_max.json file\n",
    "min_max_path = os.path.join(new_path, \"data\", \"hmx_min_max.json\")  # Correct path"
   ]
  },
  {
   "cell_type": "markdown",
   "id": "fec20019-d5a2-4725-83e6-accfc6494af8",
   "metadata": {},
   "source": [
    "# Create Data Loader for Training"
   ]
  },
  {
   "cell_type": "code",
   "execution_count": 3,
   "id": "8179ca26-80da-4a13-881e-d9b82aee8006",
   "metadata": {
    "tags": []
   },
   "outputs": [
    {
     "name": "stderr",
     "output_type": "stream",
     "text": [
      "2025-05-20 16:15:40,009 [INFO] Starting data validation...\n",
      "2025-05-20 16:15:40,013 [INFO] Validating .npy files...\n",
      "Validating files: 100%|██████████| 100/100 [00:00<00:00, 186.18it/s]\n",
      "2025-05-20 16:15:40,557 [INFO] Data validation completed successfully.\n",
      "2025-05-20 16:15:40,558 [INFO] Preparing dataset samples...\n",
      "Listing samples: 100%|██████████| 100/100 [00:00<00:00, 375.77it/s]\n",
      "2025-05-20 16:15:40,829 [INFO] Total samples in dataset: 1400\n"
     ]
    }
   ],
   "source": [
    "n_ts = 2 # do 2 for single ts (1 future ts which is target)\n",
    "batch_size = 32\n",
    "validation_split = 0.05  # 5% for validation\n",
    "\n",
    "# Initialize the dataset\n",
    "train_dataset = GenericPhysicsDataset(\n",
    "    data_dirs=[data_dir_train],\n",
    "    future_steps=n_ts-1,\n",
    "    min_max_path=min_max_path,\n",
    ")\n",
    "\n",
    "# Calculate the size of the validation set\n",
    "validation_size = int(len(train_dataset) * validation_split)\n",
    "train_size = len(train_dataset) - validation_size\n",
    "\n",
    "# Perform the split\n",
    "train_subset, val_subset = random_split(train_dataset, [train_size, validation_size])\n",
    "\n",
    "# Create DataLoader for training and validation datasets\n",
    "train_loader = DataLoader(\n",
    "    train_subset,\n",
    "    batch_size=batch_size,\n",
    "    shuffle=True,  # Shuffle the training data\n",
    "    num_workers=1,\n",
    "    pin_memory=True,\n",
    "    collate_fn=custom_collate_fn,\n",
    ")\n",
    "\n",
    "val_loader = DataLoader(\n",
    "    val_subset,\n",
    "    batch_size=batch_size,\n",
    "    shuffle=False,  # No need to shuffle validation data\n",
    "    num_workers=1,\n",
    "    pin_memory=True,\n",
    "    collate_fn=custom_collate_fn,\n",
    ")"
   ]
  },
  {
   "cell_type": "markdown",
   "id": "3e1a9fc1-481a-417d-8cf4-d7fade17282b",
   "metadata": {},
   "source": [
    "# Training"
   ]
  },
  {
   "cell_type": "code",
   "execution_count": 4,
   "id": "44538cfd-94ff-4941-b65b-4a74c3e9e54e",
   "metadata": {
    "tags": []
   },
   "outputs": [
    {
     "ename": "TypeError",
     "evalue": "DifferentiatorEncoder.__init__() got an unexpected keyword argument 'latent_dim'",
     "output_type": "error",
     "traceback": [
      "\u001b[0;31m---------------------------------------------------------------------------\u001b[0m",
      "\u001b[0;31mTypeError\u001b[0m                                 Traceback (most recent call last)",
      "Cell \u001b[0;32mIn[4], line 10\u001b[0m\n\u001b[1;32m      6\u001b[0m device \u001b[38;5;241m=\u001b[39m torch\u001b[38;5;241m.\u001b[39mdevice(\u001b[38;5;124m'\u001b[39m\u001b[38;5;124mcuda\u001b[39m\u001b[38;5;124m'\u001b[39m \u001b[38;5;28;01mif\u001b[39;00m torch\u001b[38;5;241m.\u001b[39mcuda\u001b[38;5;241m.\u001b[39mis_available() \u001b[38;5;28;01melse\u001b[39;00m \u001b[38;5;124m'\u001b[39m\u001b[38;5;124mcpu\u001b[39m\u001b[38;5;124m'\u001b[39m)\n\u001b[1;32m      8\u001b[0m latent_dim \u001b[38;5;241m=\u001b[39m \u001b[38;5;241m16\u001b[39m\n\u001b[0;32m---> 10\u001b[0m encoder \u001b[38;5;241m=\u001b[39m \u001b[43mDifferentiatorEncoder\u001b[49m\u001b[43m(\u001b[49m\u001b[43mlatent_dim\u001b[49m\u001b[38;5;241;43m=\u001b[39;49m\u001b[43mlatent_dim\u001b[49m\u001b[43m)\u001b[49m\u001b[38;5;241m.\u001b[39mto(device)\n\u001b[1;32m     11\u001b[0m decoder \u001b[38;5;241m=\u001b[39m Decoder(latent_dim\u001b[38;5;241m=\u001b[39mlatent_dim)\u001b[38;5;241m.\u001b[39mto(device)\n\u001b[1;32m     13\u001b[0m integrator \u001b[38;5;241m=\u001b[39m RK4()\u001b[38;5;241m.\u001b[39mto(device)  \u001b[38;5;66;03m# step size may be hyper-param of interest\u001b[39;00m\n",
      "\u001b[0;31mTypeError\u001b[0m: DifferentiatorEncoder.__init__() got an unexpected keyword argument 'latent_dim'"
     ]
    }
   ],
   "source": [
    "# where to save weights\n",
    "save_path=\"/sfs/gpfs/tardis/home/pdy2bw/Research/LatentPARC/latent_parc/PARCtorch/PARCtorch/3AE_LatentPARC/differentiator_encoder\"\n",
    "weights_name=\"test\"\n",
    "\n",
    "# model setup\n",
    "device = torch.device('cuda' if torch.cuda.is_available() else 'cpu')\n",
    "\n",
    "latent_dim = 16\n",
    "\n",
    "encoder = DifferentiatorEncoder(latent_dim=latent_dim).to(device)\n",
    "decoder = Decoder(latent_dim=latent_dim).to(device)\n",
    "\n",
    "integrator = RK4().to(device)  # step size may be hyper-param of interest"
   ]
  },
  {
   "cell_type": "code",
   "execution_count": null,
   "id": "03c9ffbf-0335-40a8-a7e1-79ac5f05e015",
   "metadata": {
    "tags": []
   },
   "outputs": [],
   "source": [
    "# Initialize LatentPARC\n",
    "model_init = model(encoder, decoder, integrator).to(device)\n",
    "\n",
    "#Loss Function\n",
    "criterion = torch.nn.L1Loss().to(device)\n",
    "# criterion = LpLoss(p=10).cuda()\n",
    "# criterion = nn.MSELoss()\n",
    "\n",
    "optimizer = Adam(model_init.parameters(), lr=1e-3)\n",
    "\n",
    "# Define learning rate scheduler\n",
    "# scheduler = StepLR(optimizer, step_size=3, gamma=0.5)\n",
    "scheduler = ReduceLROnPlateau(optimizer, mode='min', factor=0.9, patience=10, verbose=True)\n",
    "\n",
    "#  training model\n",
    "model = LatentPARC(model_init, optimizer, save_path, weights_name)\n",
    "\n",
    "log_dict = model.train(criterion, epochs=100, image_size = [128, 256], n_channels=3, device=device, \n",
    "                       train_loader=train_loader, val_loader=val_loader, scheduler=scheduler,\n",
    "                       noise_fn=add_random_noise, initial_max_noise=0.16, n_reduce_factor=0.5, \n",
    "                       ms_reduce_factor=0, reduce_on=3, mode=\"single_ts_train\")"
   ]
  },
  {
   "cell_type": "code",
   "execution_count": null,
   "id": "f464a1f4-e8ea-4d3f-bd24-35eb56269f86",
   "metadata": {},
   "outputs": [],
   "source": []
  }
 ],
 "metadata": {
  "kernelspec": {
   "display_name": "PyTorch 2.4.0",
   "language": "python",
   "name": "pytorch-2.4.0"
  },
  "language_info": {
   "codemirror_mode": {
    "name": "ipython",
    "version": 3
   },
   "file_extension": ".py",
   "mimetype": "text/x-python",
   "name": "python",
   "nbconvert_exporter": "python",
   "pygments_lexer": "ipython3",
   "version": "3.10.12"
  }
 },
 "nbformat": 4,
 "nbformat_minor": 5
}
